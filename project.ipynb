{
 "cells": [
  {
   "cell_type": "markdown",
   "id": "124e5672",
   "metadata": {},
   "source": [
    "# Custom Chatbot Project"
   ]
  },
  {
   "cell_type": "markdown",
   "id": "2a4a94b3",
   "metadata": {},
   "source": [
    "TODO: In this cell, write an explanation of which dataset you have chosen and why it is appropriate for this task\n",
    "\n",
    "In this project i used the events (goals and results) of the current bundesliga season. This dataset is chosen, becouse to create a chat bot that can give accurate facts of the current season.\n",
    "\n",
    "Be carefully. There is not limit of context. Every data gets send to the module. It could be expensive..."
   ]
  },
  {
   "cell_type": "markdown",
   "id": "a63d4c5f",
   "metadata": {},
   "source": [
    "## Data Wrangling\n",
    "\n",
    "TODO: In the cells below, load your chosen dataset into a `pandas` dataframe with a column named `\"text\"`. This column should contain all of your text data, separated into at least 20 rows."
   ]
  },
  {
   "cell_type": "code",
   "execution_count": 5,
   "id": "b151f0b2",
   "metadata": {},
   "outputs": [
    {
     "name": "stdout",
     "output_type": "stream",
     "text": [
      "Requirement already satisfied: requests in c:\\dev\\software\\python313\\lib\\site-packages (2.32.3)\n",
      "Requirement already satisfied: openai in c:\\dev\\software\\python313\\lib\\site-packages (1.68.0)\n",
      "Requirement already satisfied: scipy in c:\\dev\\software\\python313\\lib\\site-packages (1.15.2)\n",
      "Requirement already satisfied: charset-normalizer<4,>=2 in c:\\dev\\software\\python313\\lib\\site-packages (from requests) (3.4.1)\n",
      "Requirement already satisfied: idna<4,>=2.5 in c:\\dev\\software\\python313\\lib\\site-packages (from requests) (3.10)\n",
      "Requirement already satisfied: urllib3<3,>=1.21.1 in c:\\dev\\software\\python313\\lib\\site-packages (from requests) (2.3.0)\n",
      "Requirement already satisfied: certifi>=2017.4.17 in c:\\dev\\software\\python313\\lib\\site-packages (from requests) (2025.1.31)\n",
      "Requirement already satisfied: anyio<5,>=3.5.0 in c:\\dev\\software\\python313\\lib\\site-packages (from openai) (4.8.0)\n",
      "Requirement already satisfied: distro<2,>=1.7.0 in c:\\dev\\software\\python313\\lib\\site-packages (from openai) (1.9.0)\n",
      "Requirement already satisfied: httpx<1,>=0.23.0 in c:\\dev\\software\\python313\\lib\\site-packages (from openai) (0.28.1)\n",
      "Requirement already satisfied: jiter<1,>=0.4.0 in c:\\dev\\software\\python313\\lib\\site-packages (from openai) (0.9.0)\n",
      "Requirement already satisfied: numpy>=2.0.2 in c:\\dev\\software\\python313\\lib\\site-packages (from openai) (2.2.3)\n",
      "Requirement already satisfied: pydantic<3,>=1.9.0 in c:\\dev\\software\\python313\\lib\\site-packages (from openai) (2.10.6)\n",
      "Requirement already satisfied: sniffio in c:\\dev\\software\\python313\\lib\\site-packages (from openai) (1.3.1)\n",
      "Requirement already satisfied: sounddevice>=0.5.1 in c:\\dev\\software\\python313\\lib\\site-packages (from openai) (0.5.1)\n",
      "Requirement already satisfied: tqdm>4 in c:\\dev\\software\\python313\\lib\\site-packages (from openai) (4.67.1)\n",
      "Requirement already satisfied: typing-extensions<5,>=4.11 in c:\\dev\\software\\python313\\lib\\site-packages (from openai) (4.12.2)\n",
      "Requirement already satisfied: httpcore==1.* in c:\\dev\\software\\python313\\lib\\site-packages (from httpx<1,>=0.23.0->openai) (1.0.7)\n",
      "Requirement already satisfied: h11<0.15,>=0.13 in c:\\dev\\software\\python313\\lib\\site-packages (from httpcore==1.*->httpx<1,>=0.23.0->openai) (0.14.0)\n",
      "Requirement already satisfied: annotated-types>=0.6.0 in c:\\dev\\software\\python313\\lib\\site-packages (from pydantic<3,>=1.9.0->openai) (0.7.0)\n",
      "Requirement already satisfied: pydantic-core==2.27.2 in c:\\dev\\software\\python313\\lib\\site-packages (from pydantic<3,>=1.9.0->openai) (2.27.2)\n",
      "Requirement already satisfied: CFFI>=1.0 in c:\\dev\\software\\python313\\lib\\site-packages (from sounddevice>=0.5.1->openai) (1.17.1)\n",
      "Requirement already satisfied: colorama in c:\\dev\\software\\python313\\lib\\site-packages (from tqdm>4->openai) (0.4.6)\n",
      "Requirement already satisfied: pycparser in c:\\dev\\software\\python313\\lib\\site-packages (from CFFI>=1.0->sounddevice>=0.5.1->openai) (2.22)\n",
      "Note: you may need to restart the kernel to use updated packages.\n"
     ]
    },
    {
     "name": "stderr",
     "output_type": "stream",
     "text": [
      "\n",
      "[notice] A new release of pip is available: 24.3.1 -> 25.0.1\n",
      "[notice] To update, run: python.exe -m pip install --upgrade pip\n"
     ]
    }
   ],
   "source": [
    "# install required modules\n",
    "%pip install requests openai scipy"
   ]
  },
  {
   "cell_type": "code",
   "execution_count": 1,
   "id": "34a44c14",
   "metadata": {},
   "outputs": [],
   "source": [
    "# imports\n",
    "import os\n",
    "import requests\n",
    "import json\n",
    "import pandas as pd\n"
   ]
  },
  {
   "cell_type": "code",
   "execution_count": null,
   "id": "c69b83a1",
   "metadata": {},
   "outputs": [],
   "source": [
    "# set internet proxy\n",
    "os.environ[\"HTTPS_PROXY\"] = \"\"\n",
    "os.environ[\"HTTP_PROXY\"] = \"\"\n",
    "os.environ[\"NO_PROXY\"] = \"localhost\""
   ]
  },
  {
   "cell_type": "code",
   "execution_count": 6,
   "id": "0a595980",
   "metadata": {},
   "outputs": [
    {
     "name": "stdout",
     "output_type": "stream",
     "text": [
      "Matchday 1 successfully saved: ./data\\match_day_1.json\n",
      "Matchday 2 successfully saved: ./data\\match_day_2.json\n",
      "Matchday 3 successfully saved: ./data\\match_day_3.json\n",
      "Matchday 4 successfully saved: ./data\\match_day_4.json\n",
      "Matchday 5 successfully saved: ./data\\match_day_5.json\n",
      "Matchday 6 successfully saved: ./data\\match_day_6.json\n",
      "Matchday 7 successfully saved: ./data\\match_day_7.json\n",
      "Matchday 8 successfully saved: ./data\\match_day_8.json\n",
      "Matchday 9 successfully saved: ./data\\match_day_9.json\n",
      "Matchday 10 successfully saved: ./data\\match_day_10.json\n",
      "Matchday 11 successfully saved: ./data\\match_day_11.json\n",
      "Matchday 12 successfully saved: ./data\\match_day_12.json\n",
      "Matchday 13 successfully saved: ./data\\match_day_13.json\n",
      "Matchday 14 successfully saved: ./data\\match_day_14.json\n",
      "Matchday 15 successfully saved: ./data\\match_day_15.json\n",
      "Matchday 16 successfully saved: ./data\\match_day_16.json\n",
      "Matchday 17 successfully saved: ./data\\match_day_17.json\n",
      "Matchday 18 successfully saved: ./data\\match_day_18.json\n",
      "Matchday 19 successfully saved: ./data\\match_day_19.json\n",
      "Matchday 20 successfully saved: ./data\\match_day_20.json\n",
      "Matchday 21 successfully saved: ./data\\match_day_21.json\n",
      "Matchday 22 successfully saved: ./data\\match_day_22.json\n",
      "Matchday 23 successfully saved: ./data\\match_day_23.json\n",
      "Matchday 24 successfully saved: ./data\\match_day_24.json\n",
      "Matchday 25 successfully saved: ./data\\match_day_25.json\n",
      "Matchday 26 successfully saved: ./data\\match_day_26.json\n",
      "Matchday 27 successfully saved: ./data\\match_day_27.json\n",
      "Matchday 28 successfully saved: ./data\\match_day_28.json\n",
      "Matchday 29 successfully saved: ./data\\match_day_29.json\n",
      "Matchday 30 successfully saved: ./data\\match_day_30.json\n",
      "Matchday 31 successfully saved: ./data\\match_day_31.json\n",
      "Matchday 32 successfully saved: ./data\\match_day_32.json\n",
      "Matchday 33 successfully saved: ./data\\match_day_33.json\n",
      "Matchday 34 successfully saved: ./data\\match_day_34.json\n"
     ]
    }
   ],
   "source": [
    "# pull data\n",
    "match_days = 34\n",
    "data_dir = \"./data\"\n",
    "year = 2024\n",
    "if not os.path.exists(data_dir):\n",
    "    os.mkdir(data_dir)\n",
    "\n",
    "for i in range(1, match_days + 1):\n",
    "    url = f\"https://api.openligadb.de/getmatchdata/bl1/{year}/{i}\"\n",
    "    file_name = f\"match_day_{i}.json\"\n",
    "    file_path = os.path.join(data_dir, file_name)\n",
    "    \n",
    "    response = requests.get(url)\n",
    "    \n",
    "    if response.status_code == 200:\n",
    "        with open(file_path, \"w\", encoding=\"utf-8\") as f:\n",
    "            json.dump(response.json(), f, ensure_ascii=False, indent=4)\n",
    "        print(f\"Matchday {i} successfully saved: {file_path}\")\n",
    "    else:\n",
    "        print(f\"Error {i}: HTTP {response.status_code}\")"
   ]
  },
  {
   "cell_type": "code",
   "execution_count": null,
   "id": "acb3a9fd",
   "metadata": {},
   "outputs": [],
   "source": [
    "texts = []\n",
    "\n",
    "for i in range(1, match_days + 1):\n",
    "    file_name = f\"match_day_{i}.json\"\n",
    "    file_path = os.path.join(data_dir, file_name)\n",
    "    with open(file_path, \"r\", encoding=\"utf-8\") as f:\n",
    "        data = json.load(f)\n",
    "    for match in data:\n",
    "\n",
    "        base_text = f\"{match.get(\"matchID\")} {match.get(\"leagueName\")} - {match.get(\"matchDateTime\")} - {match.get(\"group\").get(\"groupName\")} - {match.get(\"team1\").get(\"teamName\")} vs {match.get(\"team2\").get(\"teamName\")} - {match.get(\"location\").get(\"locationStadium\") if match.get(\"location\") else match.get(\"team1\").get(\"shortName\")} - \"\n",
    "        for matchResult in match.get(\"matchResults\"):\n",
    "            tmp_text = base_text + f\"{matchResult.get(\"resultName\")} - {matchResult.get(\"pointsTeam1\")} : {matchResult.get(\"pointsTeam2\")}\"\n",
    "            texts.append(tmp_text)\n",
    "        for goal in match.get(\"goals\"):\n",
    "            tmp_text = base_text + f\"{goal.get(\"goalID\")} - {goal.get(\"scoreTeam1\")} : {goal.get(\"scoreTeam2\")}  - matchMinute={goal.get(\"matchMinute\")} - {goal.get(\"goalGetterName\")} - isPenalty={goal.get(\"isPenalty\")} - isOwnGoal={goal.get(\"isOwnGoal\")} - isOvertime={goal.get(\"isOvertime\")}\"\n",
    "            texts.append(tmp_text)\n",
    "        if len(match.get(\"goals\")) + len( match.get(\"matchResults\")) == 0:\n",
    "            texts.append(base_text)\n",
    "\n"
   ]
  },
  {
   "cell_type": "code",
   "execution_count": null,
   "id": "59e59d5f",
   "metadata": {},
   "outputs": [
    {
     "name": "stdout",
     "output_type": "stream",
     "text": [
      "                                                text\n",
      "0  72214 1. Fußball-Bundesliga 2024/2025 - 2024-0...\n",
      "1  72214 1. Fußball-Bundesliga 2024/2025 - 2024-0...\n",
      "2  72214 1. Fußball-Bundesliga 2024/2025 - 2024-0...\n",
      "3  72214 1. Fußball-Bundesliga 2024/2025 - 2024-0...\n",
      "4  72214 1. Fußball-Bundesliga 2024/2025 - 2024-0...\n"
     ]
    }
   ],
   "source": [
    "df = pd.DataFrame({\"text\": texts})\n",
    "\n",
    "print(df.head())"
   ]
  },
  {
   "cell_type": "code",
   "execution_count": null,
   "id": "3deb73cc",
   "metadata": {},
   "outputs": [],
   "source": [
    "df.to_csv(\"bundesliga_matches.csv\", index=False, encoding=\"utf-8\")"
   ]
  },
  {
   "cell_type": "markdown",
   "id": "ae769871",
   "metadata": {},
   "source": [
    "## Custom Query Completion\n",
    "\n",
    "TODO: In the cells below, compose a custom query using your chosen dataset and retrieve results from an OpenAI `Completion` model. You may copy and paste any useful code from the course materials."
   ]
  },
  {
   "cell_type": "code",
   "execution_count": 3,
   "id": "582f0656",
   "metadata": {},
   "outputs": [],
   "source": [
    "\n",
    "#imports\n",
    "\n",
    "import pandas as pd\n",
    "import openai\n",
    "import ast\n",
    "from scipy.spatial.distance import cosine"
   ]
  },
  {
   "cell_type": "code",
   "execution_count": null,
   "id": "8b6e1f75",
   "metadata": {},
   "outputs": [],
   "source": [
    "df = pd.read_csv(\"bundesliga_matches.csv\", encoding=\"utf-8\")"
   ]
  },
  {
   "cell_type": "code",
   "execution_count": null,
   "id": "13f2dcd7",
   "metadata": {},
   "outputs": [
    {
     "name": "stdout",
     "output_type": "stream",
     "text": [
      "                                                text  \\\n",
      "0  72214 1. Fußball-Bundesliga 2024/2025 - 2024-0...   \n",
      "1  72214 1. Fußball-Bundesliga 2024/2025 - 2024-0...   \n",
      "2  72214 1. Fußball-Bundesliga 2024/2025 - 2024-0...   \n",
      "3  72214 1. Fußball-Bundesliga 2024/2025 - 2024-0...   \n",
      "4  72214 1. Fußball-Bundesliga 2024/2025 - 2024-0...   \n",
      "\n",
      "                                           embedding  \n",
      "0  [Embedding(embedding=[-0.01921803131699562, 0....  \n",
      "1  [Embedding(embedding=[-0.007300814613699913, 0...  \n",
      "2  [Embedding(embedding=[-0.03225141018629074, 0....  \n",
      "3  [Embedding(embedding=[-0.026533454656600952, 0...  \n",
      "4  [Embedding(embedding=[-0.03140493854880333, 0....  \n"
     ]
    }
   ],
   "source": [
    "client = openai.OpenAI(\n",
    "    base_url = \"https://openai.vocareum.com/v1\",\n",
    "    api_key = \"YOUR API KEY\"\n",
    ")\n",
    "\n",
    "embeddings = []\n",
    "\n",
    "for text in df[\"text\"]:\n",
    "    response = client.embeddings.create(\n",
    "        input=text,\n",
    "        model=\"text-embedding-3-small\" \n",
    "    )\n",
    "    embedding_vector = response.data.get(\"embedding\")\n",
    "    embeddings.append(embedding_vector)\n",
    "\n",
    "df[\"embedding\"] = embeddings\n",
    "df.head()\n",
    "\n",
    "# Optional: CSV inkl. Embeddings abspeichern\n",
    "df.to_csv(\"bundesliga_matches_with_embeddings.csv\", index=False)"
   ]
  },
  {
   "cell_type": "code",
   "execution_count": null,
   "id": "c403f543",
   "metadata": {},
   "outputs": [
    {
     "data": {
      "text/html": [
       "<div>\n",
       "<style scoped>\n",
       "    .dataframe tbody tr th:only-of-type {\n",
       "        vertical-align: middle;\n",
       "    }\n",
       "\n",
       "    .dataframe tbody tr th {\n",
       "        vertical-align: top;\n",
       "    }\n",
       "\n",
       "    .dataframe thead th {\n",
       "        text-align: right;\n",
       "    }\n",
       "</style>\n",
       "<table border=\"1\" class=\"dataframe\">\n",
       "  <thead>\n",
       "    <tr style=\"text-align: right;\">\n",
       "      <th></th>\n",
       "      <th>text</th>\n",
       "      <th>embedding</th>\n",
       "    </tr>\n",
       "  </thead>\n",
       "  <tbody>\n",
       "    <tr>\n",
       "      <th>0</th>\n",
       "      <td>72214 1. Fußball-Bundesliga 2024/2025 - 2024-0...</td>\n",
       "      <td>[-0.01921803131699562, 0.014085751958191395, 0...</td>\n",
       "    </tr>\n",
       "    <tr>\n",
       "      <th>1</th>\n",
       "      <td>72214 1. Fußball-Bundesliga 2024/2025 - 2024-0...</td>\n",
       "      <td>[-0.007300814613699913, 0.009188768453896046, ...</td>\n",
       "    </tr>\n",
       "    <tr>\n",
       "      <th>2</th>\n",
       "      <td>72214 1. Fußball-Bundesliga 2024/2025 - 2024-0...</td>\n",
       "      <td>[-0.03225141018629074, 0.01771959662437439, 0....</td>\n",
       "    </tr>\n",
       "    <tr>\n",
       "      <th>3</th>\n",
       "      <td>72214 1. Fußball-Bundesliga 2024/2025 - 2024-0...</td>\n",
       "      <td>[-0.026533454656600952, 0.023782579228281975, ...</td>\n",
       "    </tr>\n",
       "    <tr>\n",
       "      <th>4</th>\n",
       "      <td>72214 1. Fußball-Bundesliga 2024/2025 - 2024-0...</td>\n",
       "      <td>[-0.03140493854880333, 0.029117325320839882, 0...</td>\n",
       "    </tr>\n",
       "  </tbody>\n",
       "</table>\n",
       "</div>"
      ],
      "text/plain": [
       "                                                text  \\\n",
       "0  72214 1. Fußball-Bundesliga 2024/2025 - 2024-0...   \n",
       "1  72214 1. Fußball-Bundesliga 2024/2025 - 2024-0...   \n",
       "2  72214 1. Fußball-Bundesliga 2024/2025 - 2024-0...   \n",
       "3  72214 1. Fußball-Bundesliga 2024/2025 - 2024-0...   \n",
       "4  72214 1. Fußball-Bundesliga 2024/2025 - 2024-0...   \n",
       "\n",
       "                                           embedding  \n",
       "0  [-0.01921803131699562, 0.014085751958191395, 0...  \n",
       "1  [-0.007300814613699913, 0.009188768453896046, ...  \n",
       "2  [-0.03225141018629074, 0.01771959662437439, 0....  \n",
       "3  [-0.026533454656600952, 0.023782579228281975, ...  \n",
       "4  [-0.03140493854880333, 0.029117325320839882, 0...  "
      ]
     },
     "execution_count": 34,
     "metadata": {},
     "output_type": "execute_result"
    }
   ],
   "source": [
    "# dev tool\n",
    "df = pd.read_csv(\"bundesliga_matches_with_embeddings.csv\", encoding=\"utf-8\")\n",
    "df[\"embedding\"] = df[\"embedding\"].apply(lambda x: ast.literal_eval(x[21:-31]))\n",
    "\n",
    "\n",
    "df.head()"
   ]
  },
  {
   "cell_type": "code",
   "execution_count": null,
   "id": "74280b92",
   "metadata": {},
   "outputs": [],
   "source": [
    "client = openai.OpenAI(\n",
    "    base_url = \"https://openai.vocareum.com/v1\",\n",
    "    api_key = \"YOUR API KEY\"\n",
    ")\n",
    "\n",
    "def get_context(question, limit = 50):\n",
    "    df = pd.read_csv(\"bundesliga_matches_with_embeddings.csv\", encoding=\"utf-8\")\n",
    "    df[\"embedding\"] = df[\"embedding\"].apply(lambda x: ast.literal_eval(x[21:-31]))\n",
    "    searching_embeddings = get_embeded_question(question)\n",
    "    df[\"distances\"] = df['embedding'].apply(lambda embedding: cosine(embedding, searching_embeddings))\n",
    "    df.sort_values(\"distances\", ascending=True, inplace=True)\n",
    "    return df['text'].head(limit).tolist()\n",
    "\n",
    "def get_embeded_question(question):\n",
    "    response = client.embeddings.create(\n",
    "        input=question,\n",
    "        model=\"text-embedding-3-small\" \n",
    "    )\n",
    "    return response.data[0].embedding\n",
    "    \n",
    "\n",
    "\n",
    "\n",
    "def answer_without_context(question):\n",
    "    prompt = [\n",
    "        {\n",
    "            'role': 'user',\n",
    "            'content': question\n",
    "        }\n",
    "    ]\n",
    "    return request_openai(prompt)\n",
    "\n",
    "def answer_with_context(question):\n",
    "    prompt =  [\n",
    "        {\n",
    "            'role': 'system',\n",
    "            'content': f\"\"\"\n",
    "            Answer the question based on your own knowledege or the provided context below. If you dont know the answer, say \"I don't know\". The context provides facts about the season 2024/2025. Facts are annotated with date and seperated by lines. \n",
    "            Context: \n",
    "                {get_context(question)}\n",
    "            \"\"\"\n",
    "        },\n",
    "        {\n",
    "            'role': 'user',\n",
    "            'content': question\n",
    "        }\n",
    "    ]\n",
    "    return request_openai(prompt)\n",
    "\n",
    "def request_openai(prompt, client=client, model_name=\"gpt-3.5-turbo\"):\n",
    "    response = client.chat.completions.create(\n",
    "        model=model_name,\n",
    "        messages=prompt,\n",
    "        max_tokens=100\n",
    "    )\n",
    "    return response.choices[0].message.content\n",
    "\n",
    "\n"
   ]
  },
  {
   "cell_type": "markdown",
   "id": "1783f146",
   "metadata": {},
   "source": [
    "## Custom Performance Demonstration\n",
    "\n",
    "TODO: In the cells below, demonstrate the performance of your custom query using at least 2 questions. For each question, show the answer from a basic `Completion` model query as well as the answer from your custom query."
   ]
  },
  {
   "cell_type": "code",
   "execution_count": 10,
   "id": "d474f034",
   "metadata": {},
   "outputs": [],
   "source": [
    "def compare_models(question):\n",
    "    print(\"Answer without context\")\n",
    "    print(answer_without_context(question))\n",
    "\n",
    "    print(\"Answer with context\")\n",
    "    print(answer_with_context(question))"
   ]
  },
  {
   "cell_type": "markdown",
   "id": "4f11fdc0",
   "metadata": {},
   "source": [
    "### Easy questions"
   ]
  },
  {
   "cell_type": "code",
   "execution_count": 26,
   "id": "4901c850",
   "metadata": {},
   "outputs": [
    {
     "name": "stdout",
     "output_type": "stream",
     "text": [
      "Answer without context\n",
      "I'm sorry, but as an AI language model, I do not have access to real-time data such as sports scores or schedules. You can check the official Borussia Dortmund website or a sports news website to find out who they played against on matchday 25 of the season 24/25.\n",
      "Answer with context\n",
      "Borussia Dortmund played against FC Augsburg on matchday 25 of the season 24/25.\n"
     ]
    }
   ],
   "source": [
    "question = \"Who did Borrusia Dortmund play against on matchday 25 of the season 24/25?\"\n",
    "compare_models(question)"
   ]
  },
  {
   "cell_type": "code",
   "execution_count": 16,
   "id": "bd7a093b",
   "metadata": {},
   "outputs": [
    {
     "name": "stdout",
     "output_type": "stream",
     "text": [
      "Answer without context\n",
      "I'm sorry, I cannot provide the specific matches that were played on the 25th matchday of the Bundesliga season 24/25 as that information is not readily available. Would you like to know about a different Bundesliga season or matchday?\n",
      "Answer with context\n",
      "The matches on the 25th matchday of the Bundesliga season 24/25 were: \n",
      "1. Bayer Leverkusen vs Werder Bremen\n",
      "2. FC Bayern München vs VfL Bochum\n"
     ]
    }
   ],
   "source": [
    "question = \"Which matches were on the 25. matchday of the Bundesliga of the season 24/25?\"\n",
    "compare_models(question)"
   ]
  },
  {
   "cell_type": "markdown",
   "id": "6e86e37c",
   "metadata": {},
   "source": [
    "### Hard questions"
   ]
  },
  {
   "cell_type": "code",
   "execution_count": 37,
   "id": "6f646989",
   "metadata": {},
   "outputs": [
    {
     "name": "stdout",
     "output_type": "stream",
     "text": [
      "Answer without context\n",
      "To answer this question, I would need access to a database or detailed records of all Bayern Munich matches in the 24/25 Bundesliga season in order to identify all the matches they lost and then print the match IDs. Unfortunately, I do not have access to live data at the moment. I recommend checking official Bundesliga websites or sports databases for this specific information.\n",
      "Answer with context\n",
      "Bayern Munich lost one game in the Bundesliga in the 2024/2025 season. The match ID where Bayern Munich lost is as follows:\n",
      "- Match ID: 72250\n"
     ]
    }
   ],
   "source": [
    "question = \"how often did bayern munich lose in the bundesliga in the season 24/25? And print the match ids.\"\n",
    "compare_models(question)\n",
    "\n",
    "# wrong answer"
   ]
  },
  {
   "cell_type": "code",
   "execution_count": 19,
   "id": "11c07a54",
   "metadata": {},
   "outputs": [
    {
     "name": "stdout",
     "output_type": "stream",
     "text": [
      "Answer without context\n",
      "It is not possible to predict or determine who will score the most goals in the Bundesliga in the 24/25 season as it has not happened yet. The leading goal scorer can vary from season to season based on the performance of individual players and teams.\n",
      "Answer with context\n",
      "In the Bundesliga season 24/25, the player who scored the most goals was Patrik Schick from Bayer Leverkusen.\n"
     ]
    }
   ],
   "source": [
    "question = \"who scores the most goals of the bundesliga in the season 24/25?\"\n",
    "compare_models(question)\n",
    "\n",
    "# wrong answer"
   ]
  }
 ],
 "metadata": {
  "kernelspec": {
   "display_name": "Python 3",
   "language": "python",
   "name": "python3"
  },
  "language_info": {
   "codemirror_mode": {
    "name": "ipython",
    "version": 3
   },
   "file_extension": ".py",
   "mimetype": "text/x-python",
   "name": "python",
   "nbconvert_exporter": "python",
   "pygments_lexer": "ipython3",
   "version": "3.13.1"
  }
 },
 "nbformat": 4,
 "nbformat_minor": 5
}
